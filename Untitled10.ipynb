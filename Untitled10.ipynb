{
  "nbformat": 4,
  "nbformat_minor": 0,
  "metadata": {
    "colab": {
      "provenance": [],
      "mount_file_id": "1zDfACife-wFWiGSeCQHx4-HWv0Sl1Gn1",
      "authorship_tag": "ABX9TyPw6x1gDaS5mHt++kSSTVF0",
      "include_colab_link": true
    },
    "kernelspec": {
      "name": "python3",
      "display_name": "Python 3"
    },
    "language_info": {
      "name": "python"
    }
  },
  "cells": [
    {
      "cell_type": "markdown",
      "metadata": {
        "id": "view-in-github",
        "colab_type": "text"
      },
      "source": [
        "<a href=\"https://colab.research.google.com/github/bhavani99121/lasso-regression/blob/main/Untitled10.ipynb\" target=\"_parent\"><img src=\"https://colab.research.google.com/assets/colab-badge.svg\" alt=\"Open In Colab\"/></a>"
      ]
    },
    {
      "cell_type": "code",
      "execution_count": null,
      "metadata": {
        "colab": {
          "base_uri": "https://localhost:8080/"
        },
        "id": "0MCFEaqAKpEN",
        "outputId": "3b33a1c0-27be-47fb-fa6a-e530df1af16c"
      },
      "outputs": [
        {
          "output_type": "stream",
          "name": "stdout",
          "text": [
            "<class 'pandas.core.frame.DataFrame'>\n",
            "RangeIndex: 6574 entries, 0 to 6573\n",
            "Data columns (total 12 columns):\n",
            " #   Column   Non-Null Count  Dtype         \n",
            "---  ------   --------------  -----         \n",
            " 0   DATE     6574 non-null   datetime64[ns]\n",
            " 1   WIND     6574 non-null   float64       \n",
            " 2   IND      6574 non-null   int64         \n",
            " 3   RAIN     6574 non-null   float64       \n",
            " 4   IND.1    6513 non-null   float64       \n",
            " 5   T.MAX    5953 non-null   float64       \n",
            " 6   IND.2    6513 non-null   float64       \n",
            " 7   T.MIN    5900 non-null   float64       \n",
            " 8   T.MIN.G  6214 non-null   float64       \n",
            " 9   YEAR     6574 non-null   int64         \n",
            " 10  MONTH    6574 non-null   int64         \n",
            " 11  DAY      6574 non-null   int64         \n",
            "dtypes: datetime64[ns](1), float64(7), int64(4)\n",
            "memory usage: 616.4 KB\n",
            "[[ 6.71699938  0.20666667  1.70708237  0.75511111]\n",
            " [12.81833616  0.20666667  2.18477074  0.75511111]\n",
            " [11.52877918  0.20666667  2.08380821  0.75511111]\n",
            " ...\n",
            " [ 7.60236686  0.20666667  1.77639993  0.75511111]\n",
            " [ 9.6425615   0.20666667  1.93613168  0.75511111]\n",
            " [21.99921202  0.20666667  2.90356363  0.75511111]]\n",
            "the slope is 0.962\n",
            "mean square error in lasso is: 2.3477616849647953\n"
          ]
        }
      ],
      "source": [
        "from pandas.core.computation.parsing import clean_column_name\n",
        "import pandas as pd\n",
        "import numpy as np\n",
        "from matplotlib import pyplot as plt\n",
        "from mlxtend.plotting import scatterplotmatrix\n",
        "from sklearn.model_selection import train_test_split\n",
        "from sklearn.linear_model import Lasso\n",
        "from sklearn.metrics import mean_squared_error\n",
        "df=pd.read_csv(\"wind_dataset.csv\")\n",
        "df['DATE'] = pd.to_datetime(df['DATE'])\n",
        "df['YEAR'] = df['DATE'].dt.year\n",
        "df['MONTH'] = df['DATE'].dt.month\n",
        "df['DAY'] = df['DATE'].dt.day\n",
        "df.info()\n",
        "df = df.drop(['DATE'], axis=1)\n",
        "df.isnull().sum().sum()\n",
        "#sns.heatmap(df.isnull())\n",
        "df.isna().sum()\n",
        "df.fillna(0, inplace=True)\n",
        "df.isnull().sum().sum()\n",
        "df.head()\n",
        "X = df.drop(['WIND'], axis=1)\n",
        "y = df['WIND']\n",
        "df.isnull().sum().sum()\n",
        "X=df.iloc[0:3000,0:1]\n",
        "y=df.iloc[0:3000,0:4]\n",
        "X_train,X_test,y_train,y_test=train_test_split(X,y,random_state=0)\n",
        "lasso=Lasso(alpha=1.0)\n",
        "lasso.fit(X_train,y_train)\n",
        "y_pred=lasso.predict(X_test)\n",
        "print(y_pred)\n",
        "print(\"the slope is %.3f\"% lasso.coef_[0])\n",
        "\n",
        "mean_squared_error(y_test,y_pred)\n",
        "print(\"mean square error in lasso is:\",np.sqrt(mean_squared_error(y_test,y_pred)))"
      ]
    }
  ]
}